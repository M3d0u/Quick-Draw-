{
 "cells": [
  {
   "cell_type": "code",
   "execution_count": 1,
   "metadata": {},
   "outputs": [],
   "source": [
    "import tensorflow as tf\n",
    "from sklearn.model_selection import train_test_split\n",
    "from sklearn.preprocessing import StandardScaler\n",
    "import matplotlib.pyplot as plt\n",
    "import numpy as np\n",
    "import os"
   ]
  },
  {
   "cell_type": "markdown",
   "metadata": {},
   "source": [
    "#### load the dataset"
   ]
  },
  {
   "cell_type": "code",
   "execution_count": 13,
   "metadata": {},
   "outputs": [
    {
     "name": "stdout",
     "output_type": "stream",
     "text": [
      "['airplane', 'apple', 'book', 'brain', 'car', 'chair', 'dog', 'eye', 'face', 'The Eiffel Tower']\n"
     ]
    }
   ],
   "source": [
    "dataset_dir = \"quick_draw_dataset\"\n",
    "files = [name for name in os.listdir(dataset_dir) if \".npy\" in name]\n",
    "max_size_per_cl = 1500\n",
    "draw_class = []\n",
    "\n",
    "# Evalueate the size of the dataset\n",
    "size = 0\n",
    "for name in files:\n",
    "    draws = np.load(os.path.join(dataset_dir, name))\n",
    "    draws = draws[:max_size_per_cl] # Take only 10 000 draw\n",
    "    size += draws.shape[0]\n",
    "\n",
    "images = np.zeros((size, 28, 28))\n",
    "targets = np.zeros((size,))\n",
    "\n",
    "it = 0\n",
    "t = 0\n",
    "for name in files:\n",
    "    # Open each dataset and add the new class\n",
    "    draw_class.append(name.replace(\"full_numpy_bitmap_\", \"\").replace(\".npy\", \"\"))\n",
    "    draws = np.load(os.path.join(dataset_dir, name))\n",
    "    draws = draws[:max_size_per_cl] # Take only 10 000 draw\n",
    "    # Add images to the buffer\n",
    "    images[it:it+draws.shape[0]] = np.invert(draws.reshape(-1, 28, 28))\n",
    "    targets[it:it+draws.shape[0]] = t\n",
    "    # Iter\n",
    "    it += draws.shape[0]\n",
    "    t += 1\n",
    "\n",
    "images = images.astype(np.float32)\n",
    "    \n",
    "# Shuffle dataset\n",
    "indexes = np.arange(size)\n",
    "np.random.shuffle(indexes)\n",
    "images = images[indexes]\n",
    "targets = targets[indexes]\n",
    "\n",
    "print(draw_class)"
   ]
  },
  {
   "cell_type": "markdown",
   "metadata": {},
   "source": [
    "#### Normalization"
   ]
  },
  {
   "cell_type": "code",
   "execution_count": 14,
   "metadata": {},
   "outputs": [
    {
     "name": "stdout",
     "output_type": "stream",
     "text": [
      "(15000, 28, 28, 1)\n"
     ]
    }
   ],
   "source": [
    "scaler = StandardScaler()\n",
    "images = scaler.fit_transform(images.reshape(-1, 28*28))\n",
    "\n",
    "#Pour le reseau à convolution, reshape avec 4ieme dim (couleurs) \n",
    "images = images.reshape(-1, 28, 28, 1)\n",
    "\n",
    "print(images.shape)"
   ]
  },
  {
   "cell_type": "markdown",
   "metadata": {},
   "source": [
    "#### Spliting the dataset into train_set and test_set"
   ]
  },
  {
   "cell_type": "code",
   "execution_count": 15,
   "metadata": {},
   "outputs": [
    {
     "name": "stdout",
     "output_type": "stream",
     "text": [
      "(12000, 28, 28, 1) (12000,)\n",
      "(3000, 28, 28, 1) (3000,)\n"
     ]
    }
   ],
   "source": [
    "images_train, images_test, targets_train, targets_test = train_test_split(images, targets, test_size = 0.2, random_state =  42)\n",
    "\n",
    "print(images_train.shape, targets_train.shape)\n",
    "print(images_test.shape, targets_test.shape)"
   ]
  },
  {
   "cell_type": "markdown",
   "metadata": {},
   "source": [
    "#### Creating a model"
   ]
  },
  {
   "cell_type": "code",
   "execution_count": 16,
   "metadata": {},
   "outputs": [
    {
     "name": "stdout",
     "output_type": "stream",
     "text": [
      "tf.Tensor(\n",
      "[[0.1082781  0.1057253  0.08073453 0.11335583 0.09393829 0.10881192\n",
      "  0.10205632 0.08900727 0.09339555 0.10469681]], shape=(1, 10), dtype=float32) [3.]\n"
     ]
    }
   ],
   "source": [
    "#Création d'un model séquentiel\n",
    "model = tf.keras.models.Sequential()\n",
    "\n",
    "#Ajout des layers\n",
    "#Convolutions\n",
    "model.add(tf.keras.layers.Conv2D(32, 4, activation = 'relu'))\n",
    "model.add(tf.keras.layers.Conv2D(64, 3, activation = 'relu'))\n",
    "model.add(tf.keras.layers.Conv2D(128, 3, activation = 'relu'))\n",
    "#Flatten the convolution\n",
    "model.add(tf.keras.layers.Flatten(name = 'flatten'))\n",
    "#Dense layers\n",
    "model.add(tf.keras.layers.Dense(128, activation = 'relu'))\n",
    "model.add(tf.keras.layers.Dense(10, activation = 'relu'))\n",
    "model.add(tf.keras.layers.Dense(10, activation = 'softmax'))\n",
    "\n",
    "model_output = model(images[0:1])\n",
    "print(model_output, targets[0:1])"
   ]
  },
  {
   "cell_type": "code",
   "execution_count": 17,
   "metadata": {
    "scrolled": true
   },
   "outputs": [
    {
     "name": "stdout",
     "output_type": "stream",
     "text": [
      "Model: \"sequential_2\"\n",
      "_________________________________________________________________\n",
      "Layer (type)                 Output Shape              Param #   \n",
      "=================================================================\n",
      "conv2d_6 (Conv2D)            (1, 25, 25, 32)           544       \n",
      "_________________________________________________________________\n",
      "conv2d_7 (Conv2D)            (1, 23, 23, 64)           18496     \n",
      "_________________________________________________________________\n",
      "conv2d_8 (Conv2D)            (1, 21, 21, 128)          73856     \n",
      "_________________________________________________________________\n",
      "flatten (Flatten)            (1, 56448)                0         \n",
      "_________________________________________________________________\n",
      "dense_6 (Dense)              (1, 128)                  7225472   \n",
      "_________________________________________________________________\n",
      "dense_7 (Dense)              (1, 10)                   1290      \n",
      "_________________________________________________________________\n",
      "dense_8 (Dense)              (1, 10)                   110       \n",
      "=================================================================\n",
      "Total params: 7,319,768\n",
      "Trainable params: 7,319,768\n",
      "Non-trainable params: 0\n",
      "_________________________________________________________________\n"
     ]
    }
   ],
   "source": [
    "model.summary()"
   ]
  },
  {
   "cell_type": "markdown",
   "metadata": {},
   "source": [
    "#### Compile the model"
   ]
  },
  {
   "cell_type": "code",
   "execution_count": 18,
   "metadata": {},
   "outputs": [],
   "source": [
    "model.compile(loss = 'sparse_categorical_crossentropy', optimizer = 'adam', metrics = ['accuracy'])"
   ]
  },
  {
   "cell_type": "markdown",
   "metadata": {},
   "source": [
    "#### Train the model on the train_set"
   ]
  },
  {
   "cell_type": "code",
   "execution_count": 20,
   "metadata": {},
   "outputs": [
    {
     "name": "stdout",
     "output_type": "stream",
     "text": [
      "Epoch 1/10\n",
      "300/300 [==============================] - 56s 185ms/step - loss: 1.0262 - accuracy: 0.6827 - val_loss: 0.6226 - val_accuracy: 0.8229\n",
      "Epoch 2/10\n",
      "300/300 [==============================] - 66s 219ms/step - loss: 0.4481 - accuracy: 0.8739 - val_loss: 0.5018 - val_accuracy: 0.8583loss: 0.4496 \n",
      "Epoch 3/10\n",
      "300/300 [==============================] - 51s 169ms/step - loss: 0.2525 - accuracy: 0.9209 - val_loss: 0.5080 - val_accuracy: 0.8604\n",
      "Epoch 4/10\n",
      "300/300 [==============================] - 59s 196ms/step - loss: 0.1242 - accuracy: 0.9609 - val_loss: 0.5937 - val_accuracy: 0.8579\n",
      "Epoch 5/10\n",
      "300/300 [==============================] - 61s 202ms/step - loss: 0.0640 - accuracy: 0.9818 - val_loss: 0.8663 - val_accuracy: 0.8446\n",
      "Epoch 6/10\n",
      "300/300 [==============================] - 58s 192ms/step - loss: 0.0573 - accuracy: 0.9812 - val_loss: 0.7524 - val_accuracy: 0.8696\n",
      "Epoch 7/10\n",
      "300/300 [==============================] - 70s 234ms/step - loss: 0.0476 - accuracy: 0.9861 - val_loss: 0.7914 - val_accuracy: 0.8604\n",
      "Epoch 8/10\n",
      "300/300 [==============================] - 71s 235ms/step - loss: 0.0269 - accuracy: 0.9919 - val_loss: 0.8322 - val_accuracy: 0.8587\n",
      "Epoch 9/10\n",
      "300/300 [==============================] - 64s 215ms/step - loss: 0.0240 - accuracy: 0.9932 - val_loss: 0.9523 - val_accuracy: 0.8600\n",
      "Epoch 10/10\n",
      "300/300 [==============================] - 62s 207ms/step - loss: 0.0183 - accuracy: 0.9939 - val_loss: 1.0443 - val_accuracy: 0.8675\n"
     ]
    }
   ],
   "source": [
    "history = model.fit(images_train, targets_train, epochs = 10, batch_size=32, validation_split = 0.2)"
   ]
  }
 ],
 "metadata": {
  "kernelspec": {
   "display_name": "Python 3",
   "language": "python",
   "name": "python3"
  },
  "language_info": {
   "codemirror_mode": {
    "name": "ipython",
    "version": 3
   },
   "file_extension": ".py",
   "mimetype": "text/x-python",
   "name": "python",
   "nbconvert_exporter": "python",
   "pygments_lexer": "ipython3",
   "version": "3.8.3"
  }
 },
 "nbformat": 4,
 "nbformat_minor": 4
}
